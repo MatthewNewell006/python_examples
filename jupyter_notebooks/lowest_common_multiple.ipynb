{
 "cells": [
  {
   "cell_type": "code",
   "execution_count": 151,
   "metadata": {},
   "outputs": [],
   "source": [
    "from fractions import Fraction\n",
    "from functools import reduce"
   ]
  },
  {
   "cell_type": "code",
   "execution_count": 152,
   "metadata": {},
   "outputs": [],
   "source": [
    "def lcm(x, y):\n",
    "    if x > y:\n",
    "        greater = x\n",
    "    else:\n",
    "        greater = y\n",
    "    \n",
    "    while True:\n",
    "        if (greater % x == 0) and (greater % y == 0):\n",
    "            lcm = greater\n",
    "            break\n",
    "        greater + 1\n",
    "    return(f'LCM of {x} and {y} = {lcm}')"
   ]
  },
  {
   "cell_type": "code",
   "execution_count": 153,
   "metadata": {},
   "outputs": [],
   "source": [
    "x, y = 12, 24"
   ]
  },
  {
   "cell_type": "code",
   "execution_count": 154,
   "metadata": {},
   "outputs": [
    {
     "data": {
      "text/plain": [
       "'LCM of 12 and 24 = 24'"
      ]
     },
     "execution_count": 154,
     "metadata": {},
     "output_type": "execute_result"
    }
   ],
   "source": [
    "lcm(x,y)"
   ]
  },
  {
   "cell_type": "code",
   "execution_count": null,
   "metadata": {},
   "outputs": [],
   "source": []
  },
  {
   "cell_type": "code",
   "execution_count": 155,
   "metadata": {},
   "outputs": [],
   "source": [
    "def sum_fracts(lst):\n",
    "    d = [i[1] for i in lst]\n",
    "    lcm = max(d)\n",
    "    \n",
    "    while True:\n",
    "        if (lcm % d[0] == 0) and (lcm % d[1] == 0) and (lcm % d[2] == 0):\n",
    "            break\n",
    "        else:\n",
    "            lcm += 1\n",
    "    \n",
    "    numerator = [lcm // i for i in d]\n",
    "    numerator = reduce(lambda a,b: a + b, numerator)\n",
    "    \n",
    "    return Fraction(numerator, lcm)"
   ]
  },
  {
   "cell_type": "code",
   "execution_count": 156,
   "metadata": {},
   "outputs": [],
   "source": [
    "lst = [[1,2], [1,3], [1,4]]"
   ]
  },
  {
   "cell_type": "code",
   "execution_count": 157,
   "metadata": {},
   "outputs": [
    {
     "data": {
      "text/plain": [
       "Fraction(13, 12)"
      ]
     },
     "execution_count": 157,
     "metadata": {},
     "output_type": "execute_result"
    }
   ],
   "source": [
    "sum_fracts(lst)"
   ]
  },
  {
   "cell_type": "code",
   "execution_count": null,
   "metadata": {},
   "outputs": [],
   "source": []
  },
  {
   "cell_type": "code",
   "execution_count": 167,
   "metadata": {},
   "outputs": [],
   "source": [
    "def sum_fracts(lst):\n",
    "    n = [i[0] for i in lst]\n",
    "    d = [i[1] for i in lst]\n",
    "    lcm = max(d)\n",
    "\n",
    "    if len(d) % 2 == 0:\n",
    "        while True:\n",
    "            if (lcm % d[0] == 0) and (lcm % d[1] == 0):\n",
    "                n = reduce(lambda a,b: a + b, n)\n",
    "                return n // lcm\n",
    "                break\n",
    "            else:\n",
    "                lcm += 1\n",
    "                \n",
    "    elif len(d) % 2 != 0:\n",
    "        while True:\n",
    "            if (lcm % d[0] == 0) and (lcm % d[1] == 0) and (lcm % d[2] == 0):\n",
    "                break\n",
    "            else:\n",
    "                lcm += 1\n",
    "        numerator = [lcm // i for i in d]\n",
    "        numerator = reduce(lambda a,b: a + b, numerator)\n",
    "            \n",
    "        return [numerator, lcm]\n",
    "        "
   ]
  },
  {
   "cell_type": "code",
   "execution_count": 168,
   "metadata": {},
   "outputs": [],
   "source": [
    "lst = [[1,2], [1,3], [1,4]]"
   ]
  },
  {
   "cell_type": "code",
   "execution_count": 169,
   "metadata": {},
   "outputs": [
    {
     "data": {
      "text/plain": [
       "[13, 12]"
      ]
     },
     "execution_count": 169,
     "metadata": {},
     "output_type": "execute_result"
    }
   ],
   "source": [
    "sum_fracts(lst)"
   ]
  },
  {
   "cell_type": "code",
   "execution_count": 170,
   "metadata": {},
   "outputs": [],
   "source": [
    "lst = [[1,3], [5,3]]"
   ]
  },
  {
   "cell_type": "code",
   "execution_count": 171,
   "metadata": {},
   "outputs": [
    {
     "data": {
      "text/plain": [
       "2"
      ]
     },
     "execution_count": 171,
     "metadata": {},
     "output_type": "execute_result"
    }
   ],
   "source": [
    "sum_fracts(lst)"
   ]
  },
  {
   "cell_type": "code",
   "execution_count": null,
   "metadata": {},
   "outputs": [],
   "source": []
  },
  {
   "cell_type": "code",
   "execution_count": 181,
   "metadata": {},
   "outputs": [],
   "source": [
    "from fractions import Fraction\n",
    "\n",
    "def sum_fracts(lst):\n",
    "    if lst:\n",
    "        ret = sum(Fraction(a, b) for (a, b) in lst)\n",
    "        return ret.numerator if ret.denominator == 1 else [ret.numerator, ret.denominator]"
   ]
  },
  {
   "cell_type": "code",
   "execution_count": 182,
   "metadata": {},
   "outputs": [],
   "source": [
    "lst = [[1,2], [1,3], [1,4]]\n",
    "lst2 = [[1,3], [5,3]]"
   ]
  },
  {
   "cell_type": "code",
   "execution_count": 183,
   "metadata": {},
   "outputs": [
    {
     "data": {
      "text/plain": [
       "[13, 12]"
      ]
     },
     "execution_count": 183,
     "metadata": {},
     "output_type": "execute_result"
    }
   ],
   "source": [
    "sum_fracts(lst)"
   ]
  },
  {
   "cell_type": "code",
   "execution_count": 184,
   "metadata": {},
   "outputs": [
    {
     "data": {
      "text/plain": [
       "2"
      ]
     },
     "execution_count": 184,
     "metadata": {},
     "output_type": "execute_result"
    }
   ],
   "source": [
    "sum_fracts(lst2)"
   ]
  },
  {
   "cell_type": "code",
   "execution_count": null,
   "metadata": {},
   "outputs": [],
   "source": []
  },
  {
   "cell_type": "code",
   "execution_count": 172,
   "metadata": {},
   "outputs": [],
   "source": [
    "from fractions import Fraction\n",
    "def sum_fracts(lst):\n",
    "    s = sum(Fraction(*f) for f in lst)\n",
    "    if s: return s.numerator if s.denominator == 1 else [s.numerator, s.denominator]"
   ]
  },
  {
   "cell_type": "code",
   "execution_count": 174,
   "metadata": {},
   "outputs": [],
   "source": [
    "lst = [[1,2], [1,3], [1,4]]\n",
    "lst2 = [[1,3], [5,3]]"
   ]
  },
  {
   "cell_type": "code",
   "execution_count": 178,
   "metadata": {},
   "outputs": [
    {
     "data": {
      "text/plain": [
       "[13, 12]"
      ]
     },
     "execution_count": 178,
     "metadata": {},
     "output_type": "execute_result"
    }
   ],
   "source": [
    "sum_fracts(lst)"
   ]
  },
  {
   "cell_type": "code",
   "execution_count": 179,
   "metadata": {},
   "outputs": [
    {
     "data": {
      "text/plain": [
       "2"
      ]
     },
     "execution_count": 179,
     "metadata": {},
     "output_type": "execute_result"
    }
   ],
   "source": [
    "sum_fracts(lst2)"
   ]
  },
  {
   "cell_type": "code",
   "execution_count": null,
   "metadata": {},
   "outputs": [],
   "source": []
  }
 ],
 "metadata": {
  "kernelspec": {
   "display_name": "Python 3",
   "language": "python",
   "name": "python3"
  },
  "language_info": {
   "codemirror_mode": {
    "name": "ipython",
    "version": 3
   },
   "file_extension": ".py",
   "mimetype": "text/x-python",
   "name": "python",
   "nbconvert_exporter": "python",
   "pygments_lexer": "ipython3",
   "version": "3.8.5"
  }
 },
 "nbformat": 4,
 "nbformat_minor": 4
}
