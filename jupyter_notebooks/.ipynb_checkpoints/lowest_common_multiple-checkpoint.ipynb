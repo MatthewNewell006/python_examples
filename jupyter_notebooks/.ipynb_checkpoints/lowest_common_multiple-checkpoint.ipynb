{
 "cells": [
  {
   "cell_type": "code",
   "execution_count": 2,
   "metadata": {},
   "outputs": [],
   "source": [
    "from fractions import Fraction\n",
    "from functools import reduce"
   ]
  },
  {
   "cell_type": "code",
   "execution_count": 10,
   "metadata": {},
   "outputs": [],
   "source": [
    "def lcm(x, y):\n",
    "    if x > y:\n",
    "        greater = x\n",
    "    else:\n",
    "        greater = y\n",
    "    \n",
    "    while True:\n",
    "        if (greater % x == 0) and (greater % y == 0):\n",
    "            lcm = greater\n",
    "            break\n",
    "        greater + 1\n",
    "    return(f'LCM of {x} and {y} = {lcm}')"
   ]
  },
  {
   "cell_type": "code",
   "execution_count": 11,
   "metadata": {},
   "outputs": [],
   "source": [
    "x, y = 12, 24"
   ]
  },
  {
   "cell_type": "code",
   "execution_count": 12,
   "metadata": {},
   "outputs": [
    {
     "data": {
      "text/plain": [
       "'LCM of 12 and 24 = 24'"
      ]
     },
     "execution_count": 12,
     "metadata": {},
     "output_type": "execute_result"
    }
   ],
   "source": [
    "lcm(x,y)"
   ]
  },
  {
   "cell_type": "code",
   "execution_count": null,
   "metadata": {},
   "outputs": [],
   "source": []
  },
  {
   "cell_type": "code",
   "execution_count": 17,
   "metadata": {},
   "outputs": [],
   "source": [
    "def sum_fracts(lst):\n",
    "    d = [i[1] for i in lst]\n",
    "    lcm = max(d)\n",
    "    \n",
    "    while True:\n",
    "        if (lcm % d[0] == 0) and (lcm % d[1] == 0) and (lcm % d[2] == 0):\n",
    "            break\n",
    "        else:\n",
    "            lcm += 1\n",
    "    \n",
    "    numerator = [lcm // i for i in d]\n",
    "    numerator = reduce(lambda a,b: a + b, numerator)\n",
    "    \n",
    "    return Fraction(numerator, lcm)"
   ]
  },
  {
   "cell_type": "code",
   "execution_count": 18,
   "metadata": {},
   "outputs": [],
   "source": [
    "lst = [[1,2], [1,3], [1,4]]"
   ]
  },
  {
   "cell_type": "code",
   "execution_count": 19,
   "metadata": {},
   "outputs": [
    {
     "data": {
      "text/plain": [
       "Fraction(13, 12)"
      ]
     },
     "execution_count": 19,
     "metadata": {},
     "output_type": "execute_result"
    }
   ],
   "source": [
    "sum_fracts(lst)"
   ]
  },
  {
   "cell_type": "code",
   "execution_count": null,
   "metadata": {},
   "outputs": [],
   "source": []
  },
  {
   "cell_type": "code",
   "execution_count": 131,
   "metadata": {},
   "outputs": [],
   "source": [
    "def sum_fracts(lst):\n",
    "    n = [i[0] for i in lst]\n",
    "    d = [i[1] for i in lst]\n",
    "    lcm = max(d)\n",
    "    \n",
    "#     while True:\n",
    "#         if (lcm % d[0] == 0) and (lcm % d[1] == 0) and (lcm % d[2] == 0):\n",
    "#             break\n",
    "#         else:\n",
    "#             lcm += 1\n",
    "\n",
    "    while True:\n",
    "        if len(d) % 2 != 0:\n",
    "            if (lcm % d[0] == 0) and (lcm % d[1] == 0) and (lcm % d[2] == 0):\n",
    "                break\n",
    "            else:\n",
    "                lcm += 1\n",
    "            numerator = [lcm // i for i in d]\n",
    "            numerator = reduce(lambda a,b: a + b, numerator)\n",
    "            \n",
    "            return [numerator, lcm]\n",
    "        \n",
    "        else:\n",
    "            if (lcm % d[0] == 0) and (lcm % d[1] == 0):\n",
    "                n = reduce(lambda a,b: a + b, n)\n",
    "                return n // lcm\n",
    "                break\n",
    "            else:\n",
    "                lcm += 1\n",
    "                \n",
    "            n = reduce(lambda a,b: a + b, n)\n",
    "    \n",
    "    #return [n, lcm]\n",
    "#     if lcm % numerator != 0:\n",
    "#         return [numerator, lcm]\n",
    "#     else:\n",
    "#         return lcm // numerator"
   ]
  },
  {
   "cell_type": "code",
   "execution_count": 132,
   "metadata": {},
   "outputs": [],
   "source": [
    "lst = [[1,2], [1,3], [1,4]]"
   ]
  },
  {
   "cell_type": "code",
   "execution_count": 133,
   "metadata": {},
   "outputs": [
    {
     "data": {
      "text/plain": [
       "[4, 5]"
      ]
     },
     "execution_count": 133,
     "metadata": {},
     "output_type": "execute_result"
    }
   ],
   "source": [
    "sum_fracts(lst)"
   ]
  },
  {
   "cell_type": "code",
   "execution_count": 134,
   "metadata": {},
   "outputs": [],
   "source": [
    "lst = [[1,3], [5,3]]"
   ]
  },
  {
   "cell_type": "code",
   "execution_count": 135,
   "metadata": {},
   "outputs": [
    {
     "data": {
      "text/plain": [
       "2"
      ]
     },
     "execution_count": 135,
     "metadata": {},
     "output_type": "execute_result"
    }
   ],
   "source": [
    "sum_fracts(lst)"
   ]
  },
  {
   "cell_type": "code",
   "execution_count": null,
   "metadata": {},
   "outputs": [],
   "source": []
  },
  {
   "cell_type": "code",
   "execution_count": 146,
   "metadata": {},
   "outputs": [],
   "source": [
    "def sum_fracts(lst):\n",
    "    n = [i[0] for i in lst]\n",
    "    d = [i[1] for i in lst]\n",
    "    lcm = max(d)\n",
    "\n",
    "    if len(d) % 2 == 0:\n",
    "        while True:\n",
    "            if (lcm % d[0] == 0) and (lcm % d[1] == 0):\n",
    "                n = reduce(lambda a,b: a + b, n)\n",
    "                return n // lcm\n",
    "                break\n",
    "            else:\n",
    "                lcm += 1\n",
    "                \n",
    "    elif len(d) % 2 != 0:\n",
    "        while True:\n",
    "            if (lcm % d[0] == 0) and (lcm % d[1] == 0) and (lcm % d[2] == 0):\n",
    "                break\n",
    "            else:\n",
    "                lcm += 1\n",
    "        numerator = [lcm // i for i in d]\n",
    "        numerator = reduce(lambda a,b: a + b, numerator)\n",
    "            \n",
    "        return [numerator, lcm]\n",
    "        "
   ]
  },
  {
   "cell_type": "code",
   "execution_count": 147,
   "metadata": {},
   "outputs": [],
   "source": [
    "lst = [[1,2], [1,3], [1,4]]"
   ]
  },
  {
   "cell_type": "code",
   "execution_count": 148,
   "metadata": {},
   "outputs": [
    {
     "data": {
      "text/plain": [
       "[13, 12]"
      ]
     },
     "execution_count": 148,
     "metadata": {},
     "output_type": "execute_result"
    }
   ],
   "source": [
    "sum_fracts(lst)"
   ]
  },
  {
   "cell_type": "code",
   "execution_count": 149,
   "metadata": {},
   "outputs": [],
   "source": [
    "lst = [[1,3], [5,3]]"
   ]
  },
  {
   "cell_type": "code",
   "execution_count": 150,
   "metadata": {},
   "outputs": [
    {
     "data": {
      "text/plain": [
       "2"
      ]
     },
     "execution_count": 150,
     "metadata": {},
     "output_type": "execute_result"
    }
   ],
   "source": [
    "sum_fracts(lst)"
   ]
  },
  {
   "cell_type": "code",
   "execution_count": null,
   "metadata": {},
   "outputs": [],
   "source": []
  },
  {
   "cell_type": "code",
   "execution_count": null,
   "metadata": {},
   "outputs": [],
   "source": []
  }
 ],
 "metadata": {
  "kernelspec": {
   "display_name": "Python 3",
   "language": "python",
   "name": "python3"
  },
  "language_info": {
   "codemirror_mode": {
    "name": "ipython",
    "version": 3
   },
   "file_extension": ".py",
   "mimetype": "text/x-python",
   "name": "python",
   "nbconvert_exporter": "python",
   "pygments_lexer": "ipython3",
   "version": "3.8.5"
  }
 },
 "nbformat": 4,
 "nbformat_minor": 4
}
