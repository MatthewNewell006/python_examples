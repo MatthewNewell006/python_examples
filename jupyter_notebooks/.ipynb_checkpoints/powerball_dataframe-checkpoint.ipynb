{
 "cells": [
  {
   "cell_type": "code",
   "execution_count": 1,
   "metadata": {},
   "outputs": [],
   "source": [
    "import pandas as pd\n",
    "import numpy as np\n",
    "\n",
    "from collections import Counter\n",
    "from itertools import repeat, chain\n",
    "from random import randint, choice"
   ]
  },
  {
   "cell_type": "code",
   "execution_count": 2,
   "metadata": {},
   "outputs": [],
   "source": [
    "powerball_df = pd.read_csv('/Users/matthewnewell/Desktop/github/python_examples/csv/NCELPowerball.csv')"
   ]
  },
  {
   "cell_type": "code",
   "execution_count": 3,
   "metadata": {},
   "outputs": [
    {
     "data": {
      "text/html": [
       "<div>\n",
       "<style scoped>\n",
       "    .dataframe tbody tr th:only-of-type {\n",
       "        vertical-align: middle;\n",
       "    }\n",
       "\n",
       "    .dataframe tbody tr th {\n",
       "        vertical-align: top;\n",
       "    }\n",
       "\n",
       "    .dataframe thead th {\n",
       "        text-align: right;\n",
       "    }\n",
       "</style>\n",
       "<table border=\"1\" class=\"dataframe\">\n",
       "  <thead>\n",
       "    <tr style=\"text-align: right;\">\n",
       "      <th></th>\n",
       "      <th>Date</th>\n",
       "      <th>Number 1</th>\n",
       "      <th>Number 2</th>\n",
       "      <th>Number 3</th>\n",
       "      <th>Number 4</th>\n",
       "      <th>Number 5</th>\n",
       "      <th>Powerball</th>\n",
       "      <th>Power Play</th>\n",
       "      <th>Jackpot</th>\n",
       "    </tr>\n",
       "  </thead>\n",
       "  <tbody>\n",
       "    <tr>\n",
       "      <th>0</th>\n",
       "      <td>12/30/2020</td>\n",
       "      <td>45.0</td>\n",
       "      <td>65.0</td>\n",
       "      <td>43.0</td>\n",
       "      <td>61.0</td>\n",
       "      <td>3.0</td>\n",
       "      <td>14.0</td>\n",
       "      <td>2.0</td>\n",
       "      <td>365300000.0</td>\n",
       "    </tr>\n",
       "    <tr>\n",
       "      <th>1</th>\n",
       "      <td>12/26/2020</td>\n",
       "      <td>35.0</td>\n",
       "      <td>53.0</td>\n",
       "      <td>27.0</td>\n",
       "      <td>24.0</td>\n",
       "      <td>10.0</td>\n",
       "      <td>18.0</td>\n",
       "      <td>2.0</td>\n",
       "      <td>342800000.0</td>\n",
       "    </tr>\n",
       "    <tr>\n",
       "      <th>2</th>\n",
       "      <td>12/23/2020</td>\n",
       "      <td>6.0</td>\n",
       "      <td>38.0</td>\n",
       "      <td>53.0</td>\n",
       "      <td>39.0</td>\n",
       "      <td>13.0</td>\n",
       "      <td>6.0</td>\n",
       "      <td>3.0</td>\n",
       "      <td>324500000.0</td>\n",
       "    </tr>\n",
       "    <tr>\n",
       "      <th>3</th>\n",
       "      <td>12/19/2020</td>\n",
       "      <td>27.0</td>\n",
       "      <td>52.0</td>\n",
       "      <td>43.0</td>\n",
       "      <td>32.0</td>\n",
       "      <td>34.0</td>\n",
       "      <td>13.0</td>\n",
       "      <td>2.0</td>\n",
       "      <td>305700000.0</td>\n",
       "    </tr>\n",
       "    <tr>\n",
       "      <th>4</th>\n",
       "      <td>12/16/2020</td>\n",
       "      <td>37.0</td>\n",
       "      <td>4.0</td>\n",
       "      <td>67.0</td>\n",
       "      <td>23.0</td>\n",
       "      <td>61.0</td>\n",
       "      <td>7.0</td>\n",
       "      <td>2.0</td>\n",
       "      <td>286400000.0</td>\n",
       "    </tr>\n",
       "  </tbody>\n",
       "</table>\n",
       "</div>"
      ],
      "text/plain": [
       "         Date  Number 1  Number 2  Number 3  Number 4  Number 5  Powerball  \\\n",
       "0  12/30/2020      45.0      65.0      43.0      61.0       3.0       14.0   \n",
       "1  12/26/2020      35.0      53.0      27.0      24.0      10.0       18.0   \n",
       "2  12/23/2020       6.0      38.0      53.0      39.0      13.0        6.0   \n",
       "3  12/19/2020      27.0      52.0      43.0      32.0      34.0       13.0   \n",
       "4  12/16/2020      37.0       4.0      67.0      23.0      61.0        7.0   \n",
       "\n",
       "   Power Play      Jackpot  \n",
       "0         2.0  365300000.0  \n",
       "1         2.0  342800000.0  \n",
       "2         3.0  324500000.0  \n",
       "3         2.0  305700000.0  \n",
       "4         2.0  286400000.0  "
      ]
     },
     "execution_count": 3,
     "metadata": {},
     "output_type": "execute_result"
    }
   ],
   "source": [
    "powerball_df.head()"
   ]
  },
  {
   "cell_type": "code",
   "execution_count": 4,
   "metadata": {},
   "outputs": [],
   "source": [
    "reversed_df = powerball_df.sort_index(ascending = False)"
   ]
  },
  {
   "cell_type": "code",
   "execution_count": 5,
   "metadata": {},
   "outputs": [
    {
     "data": {
      "text/html": [
       "<div>\n",
       "<style scoped>\n",
       "    .dataframe tbody tr th:only-of-type {\n",
       "        vertical-align: middle;\n",
       "    }\n",
       "\n",
       "    .dataframe tbody tr th {\n",
       "        vertical-align: top;\n",
       "    }\n",
       "\n",
       "    .dataframe thead th {\n",
       "        text-align: right;\n",
       "    }\n",
       "</style>\n",
       "<table border=\"1\" class=\"dataframe\">\n",
       "  <thead>\n",
       "    <tr style=\"text-align: right;\">\n",
       "      <th></th>\n",
       "      <th>Date</th>\n",
       "      <th>Number 1</th>\n",
       "      <th>Number 2</th>\n",
       "      <th>Number 3</th>\n",
       "      <th>Number 4</th>\n",
       "      <th>Number 5</th>\n",
       "      <th>Powerball</th>\n",
       "      <th>Power Play</th>\n",
       "      <th>Jackpot</th>\n",
       "    </tr>\n",
       "  </thead>\n",
       "  <tbody>\n",
       "    <tr>\n",
       "      <th>1523</th>\n",
       "      <td>Every effort has been made to ensure that the ...</td>\n",
       "      <td>NaN</td>\n",
       "      <td>NaN</td>\n",
       "      <td>NaN</td>\n",
       "      <td>NaN</td>\n",
       "      <td>NaN</td>\n",
       "      <td>NaN</td>\n",
       "      <td>NaN</td>\n",
       "      <td>NaN</td>\n",
       "    </tr>\n",
       "    <tr>\n",
       "      <th>1522</th>\n",
       "      <td>05/31/2006</td>\n",
       "      <td>49.0</td>\n",
       "      <td>22.0</td>\n",
       "      <td>20.0</td>\n",
       "      <td>43.0</td>\n",
       "      <td>10.0</td>\n",
       "      <td>3.0</td>\n",
       "      <td>5.0</td>\n",
       "      <td>38000000.0</td>\n",
       "    </tr>\n",
       "    <tr>\n",
       "      <th>1521</th>\n",
       "      <td>06/03/2006</td>\n",
       "      <td>20.0</td>\n",
       "      <td>5.0</td>\n",
       "      <td>18.0</td>\n",
       "      <td>50.0</td>\n",
       "      <td>6.0</td>\n",
       "      <td>35.0</td>\n",
       "      <td>5.0</td>\n",
       "      <td>48000000.0</td>\n",
       "    </tr>\n",
       "    <tr>\n",
       "      <th>1520</th>\n",
       "      <td>06/07/2006</td>\n",
       "      <td>20.0</td>\n",
       "      <td>10.0</td>\n",
       "      <td>4.0</td>\n",
       "      <td>26.0</td>\n",
       "      <td>40.0</td>\n",
       "      <td>8.0</td>\n",
       "      <td>5.0</td>\n",
       "      <td>60000000.0</td>\n",
       "    </tr>\n",
       "    <tr>\n",
       "      <th>1519</th>\n",
       "      <td>06/10/2006</td>\n",
       "      <td>36.0</td>\n",
       "      <td>54.0</td>\n",
       "      <td>24.0</td>\n",
       "      <td>26.0</td>\n",
       "      <td>16.0</td>\n",
       "      <td>11.0</td>\n",
       "      <td>3.0</td>\n",
       "      <td>73000000.0</td>\n",
       "    </tr>\n",
       "  </tbody>\n",
       "</table>\n",
       "</div>"
      ],
      "text/plain": [
       "                                                   Date  Number 1  Number 2  \\\n",
       "1523  Every effort has been made to ensure that the ...       NaN       NaN   \n",
       "1522                                         05/31/2006      49.0      22.0   \n",
       "1521                                         06/03/2006      20.0       5.0   \n",
       "1520                                         06/07/2006      20.0      10.0   \n",
       "1519                                         06/10/2006      36.0      54.0   \n",
       "\n",
       "      Number 3  Number 4  Number 5  Powerball  Power Play     Jackpot  \n",
       "1523       NaN       NaN       NaN        NaN         NaN         NaN  \n",
       "1522      20.0      43.0      10.0        3.0         5.0  38000000.0  \n",
       "1521      18.0      50.0       6.0       35.0         5.0  48000000.0  \n",
       "1520       4.0      26.0      40.0        8.0         5.0  60000000.0  \n",
       "1519      24.0      26.0      16.0       11.0         3.0  73000000.0  "
      ]
     },
     "execution_count": 5,
     "metadata": {},
     "output_type": "execute_result"
    }
   ],
   "source": [
    "reversed_df.head()"
   ]
  },
  {
   "cell_type": "code",
   "execution_count": 6,
   "metadata": {},
   "outputs": [
    {
     "data": {
      "text/plain": [
       "Date          Every effort has been made to ensure that the ...\n",
       "Number 1                                                    NaN\n",
       "Number 2                                                    NaN\n",
       "Number 3                                                    NaN\n",
       "Number 4                                                    NaN\n",
       "Number 5                                                    NaN\n",
       "Powerball                                                   NaN\n",
       "Power Play                                                  NaN\n",
       "Jackpot                                                     NaN\n",
       "Name: 1523, dtype: object"
      ]
     },
     "execution_count": 6,
     "metadata": {},
     "output_type": "execute_result"
    }
   ],
   "source": [
    "reversed_df.iloc[0]"
   ]
  },
  {
   "cell_type": "code",
   "execution_count": 7,
   "metadata": {},
   "outputs": [],
   "source": [
    "# reversed_df.drop(reversed_df.head(1).index, inplace = True)\n",
    "\n",
    "reversed_df.drop(reversed_df.index[:1], inplace = True)"
   ]
  },
  {
   "cell_type": "code",
   "execution_count": 8,
   "metadata": {},
   "outputs": [
    {
     "data": {
      "text/html": [
       "<div>\n",
       "<style scoped>\n",
       "    .dataframe tbody tr th:only-of-type {\n",
       "        vertical-align: middle;\n",
       "    }\n",
       "\n",
       "    .dataframe tbody tr th {\n",
       "        vertical-align: top;\n",
       "    }\n",
       "\n",
       "    .dataframe thead th {\n",
       "        text-align: right;\n",
       "    }\n",
       "</style>\n",
       "<table border=\"1\" class=\"dataframe\">\n",
       "  <thead>\n",
       "    <tr style=\"text-align: right;\">\n",
       "      <th></th>\n",
       "      <th>Date</th>\n",
       "      <th>Number 1</th>\n",
       "      <th>Number 2</th>\n",
       "      <th>Number 3</th>\n",
       "      <th>Number 4</th>\n",
       "      <th>Number 5</th>\n",
       "      <th>Powerball</th>\n",
       "      <th>Power Play</th>\n",
       "      <th>Jackpot</th>\n",
       "    </tr>\n",
       "  </thead>\n",
       "  <tbody>\n",
       "    <tr>\n",
       "      <th>1522</th>\n",
       "      <td>05/31/2006</td>\n",
       "      <td>49.0</td>\n",
       "      <td>22.0</td>\n",
       "      <td>20.0</td>\n",
       "      <td>43.0</td>\n",
       "      <td>10.0</td>\n",
       "      <td>3.0</td>\n",
       "      <td>5.0</td>\n",
       "      <td>38000000.0</td>\n",
       "    </tr>\n",
       "    <tr>\n",
       "      <th>1521</th>\n",
       "      <td>06/03/2006</td>\n",
       "      <td>20.0</td>\n",
       "      <td>5.0</td>\n",
       "      <td>18.0</td>\n",
       "      <td>50.0</td>\n",
       "      <td>6.0</td>\n",
       "      <td>35.0</td>\n",
       "      <td>5.0</td>\n",
       "      <td>48000000.0</td>\n",
       "    </tr>\n",
       "    <tr>\n",
       "      <th>1520</th>\n",
       "      <td>06/07/2006</td>\n",
       "      <td>20.0</td>\n",
       "      <td>10.0</td>\n",
       "      <td>4.0</td>\n",
       "      <td>26.0</td>\n",
       "      <td>40.0</td>\n",
       "      <td>8.0</td>\n",
       "      <td>5.0</td>\n",
       "      <td>60000000.0</td>\n",
       "    </tr>\n",
       "    <tr>\n",
       "      <th>1519</th>\n",
       "      <td>06/10/2006</td>\n",
       "      <td>36.0</td>\n",
       "      <td>54.0</td>\n",
       "      <td>24.0</td>\n",
       "      <td>26.0</td>\n",
       "      <td>16.0</td>\n",
       "      <td>11.0</td>\n",
       "      <td>3.0</td>\n",
       "      <td>73000000.0</td>\n",
       "    </tr>\n",
       "    <tr>\n",
       "      <th>1518</th>\n",
       "      <td>06/14/2006</td>\n",
       "      <td>4.0</td>\n",
       "      <td>40.0</td>\n",
       "      <td>14.0</td>\n",
       "      <td>48.0</td>\n",
       "      <td>15.0</td>\n",
       "      <td>12.0</td>\n",
       "      <td>3.0</td>\n",
       "      <td>86000000.0</td>\n",
       "    </tr>\n",
       "  </tbody>\n",
       "</table>\n",
       "</div>"
      ],
      "text/plain": [
       "            Date  Number 1  Number 2  Number 3  Number 4  Number 5  Powerball  \\\n",
       "1522  05/31/2006      49.0      22.0      20.0      43.0      10.0        3.0   \n",
       "1521  06/03/2006      20.0       5.0      18.0      50.0       6.0       35.0   \n",
       "1520  06/07/2006      20.0      10.0       4.0      26.0      40.0        8.0   \n",
       "1519  06/10/2006      36.0      54.0      24.0      26.0      16.0       11.0   \n",
       "1518  06/14/2006       4.0      40.0      14.0      48.0      15.0       12.0   \n",
       "\n",
       "      Power Play     Jackpot  \n",
       "1522         5.0  38000000.0  \n",
       "1521         5.0  48000000.0  \n",
       "1520         5.0  60000000.0  \n",
       "1519         3.0  73000000.0  \n",
       "1518         3.0  86000000.0  "
      ]
     },
     "execution_count": 8,
     "metadata": {},
     "output_type": "execute_result"
    }
   ],
   "source": [
    "reversed_df.head(5)"
   ]
  },
  {
   "cell_type": "code",
   "execution_count": 9,
   "metadata": {},
   "outputs": [
    {
     "data": {
      "text/plain": [
       "Index(['Date', 'Number 1', 'Number 2', 'Number 3', 'Number 4', 'Number 5',\n",
       "       'Powerball', 'Power Play', 'Jackpot'],\n",
       "      dtype='object')"
      ]
     },
     "execution_count": 9,
     "metadata": {},
     "output_type": "execute_result"
    }
   ],
   "source": [
    "reversed_df.columns"
   ]
  },
  {
   "cell_type": "code",
   "execution_count": 10,
   "metadata": {},
   "outputs": [
    {
     "data": {
      "text/plain": [
       "1522    49.0\n",
       "1521    20.0\n",
       "1520    20.0\n",
       "1519    36.0\n",
       "1518     4.0\n",
       "        ... \n",
       "4       37.0\n",
       "3       27.0\n",
       "2        6.0\n",
       "1       35.0\n",
       "0       45.0\n",
       "Name: Number 1, Length: 1523, dtype: float64"
      ]
     },
     "execution_count": 10,
     "metadata": {},
     "output_type": "execute_result"
    }
   ],
   "source": [
    "reversed_df['Number 1']"
   ]
  },
  {
   "cell_type": "code",
   "execution_count": 11,
   "metadata": {},
   "outputs": [
    {
     "data": {
      "text/plain": [
       "[(40.0, 40),\n",
       " (12.0, 36),\n",
       " (14.0, 35),\n",
       " (32.0, 35),\n",
       " (7.0, 33),\n",
       " (26.0, 31),\n",
       " (47.0, 31),\n",
       " (22.0, 29),\n",
       " (33.0, 29),\n",
       " (8.0, 29),\n",
       " (45.0, 28),\n",
       " (24.0, 28),\n",
       " (52.0, 28),\n",
       " (38.0, 28),\n",
       " (46.0, 28),\n",
       " (23.0, 27),\n",
       " (49.0, 26),\n",
       " (36.0, 26),\n",
       " (41.0, 26),\n",
       " (6.0, 26)]"
      ]
     },
     "execution_count": 11,
     "metadata": {},
     "output_type": "execute_result"
    }
   ],
   "source": [
    "Counter(reversed_df['Number 1']).most_common(20)"
   ]
  },
  {
   "cell_type": "code",
   "execution_count": 12,
   "metadata": {},
   "outputs": [
    {
     "data": {
      "text/plain": [
       "[(40.0, 40),\n",
       " (12.0, 36),\n",
       " (14.0, 35),\n",
       " (32.0, 35),\n",
       " (7.0, 33),\n",
       " (26.0, 31),\n",
       " (47.0, 31),\n",
       " (22.0, 29),\n",
       " (33.0, 29),\n",
       " (8.0, 29),\n",
       " (45.0, 28),\n",
       " (24.0, 28),\n",
       " (52.0, 28),\n",
       " (38.0, 28),\n",
       " (46.0, 28),\n",
       " (23.0, 27),\n",
       " (49.0, 26),\n",
       " (36.0, 26),\n",
       " (41.0, 26),\n",
       " (6.0, 26)]"
      ]
     },
     "execution_count": 12,
     "metadata": {},
     "output_type": "execute_result"
    }
   ],
   "source": [
    "n1 = Counter(reversed_df['Number 1']).most_common(20)\n",
    "\n",
    "n1"
   ]
  },
  {
   "cell_type": "code",
   "execution_count": 13,
   "metadata": {},
   "outputs": [
    {
     "data": {
      "text/plain": [
       "[(28.0, 34),\n",
       " (22.0, 33),\n",
       " (10.0, 32),\n",
       " (8.0, 32),\n",
       " (52.0, 32),\n",
       " (2.0, 32),\n",
       " (43.0, 32),\n",
       " (5.0, 31),\n",
       " (20.0, 31),\n",
       " (53.0, 31),\n",
       " (39.0, 29),\n",
       " (24.0, 29),\n",
       " (15.0, 29),\n",
       " (32.0, 28),\n",
       " (1.0, 28),\n",
       " (54.0, 27),\n",
       " (30.0, 27),\n",
       " (7.0, 27),\n",
       " (49.0, 26),\n",
       " (4.0, 26)]"
      ]
     },
     "execution_count": 13,
     "metadata": {},
     "output_type": "execute_result"
    }
   ],
   "source": [
    "n2 = Counter(reversed_df['Number 2']).most_common(20)\n",
    "\n",
    "n2"
   ]
  },
  {
   "cell_type": "code",
   "execution_count": 14,
   "metadata": {},
   "outputs": [
    {
     "data": {
      "text/plain": [
       "[(42.0, 36),\n",
       " (14.0, 35),\n",
       " (13.0, 34),\n",
       " (21.0, 34),\n",
       " (36.0, 33),\n",
       " (3.0, 32),\n",
       " (8.0, 31),\n",
       " (59.0, 31),\n",
       " (20.0, 30),\n",
       " (19.0, 30),\n",
       " (12.0, 30),\n",
       " (16.0, 30),\n",
       " (54.0, 30),\n",
       " (49.0, 28),\n",
       " (23.0, 28),\n",
       " (47.0, 27),\n",
       " (29.0, 27),\n",
       " (45.0, 27),\n",
       " (32.0, 27),\n",
       " (31.0, 27)]"
      ]
     },
     "execution_count": 14,
     "metadata": {},
     "output_type": "execute_result"
    }
   ],
   "source": [
    "n3 = Counter(reversed_df['Number 3']).most_common(20)\n",
    "\n",
    "n3"
   ]
  },
  {
   "cell_type": "code",
   "execution_count": 15,
   "metadata": {},
   "outputs": [
    {
     "data": {
      "text/plain": [
       "[(23.0, 44),\n",
       " (41.0, 34),\n",
       " (16.0, 30),\n",
       " (32.0, 30),\n",
       " (27.0, 30),\n",
       " (48.0, 29),\n",
       " (38.0, 29),\n",
       " (59.0, 29),\n",
       " (11.0, 28),\n",
       " (39.0, 28),\n",
       " (21.0, 28),\n",
       " (4.0, 28),\n",
       " (17.0, 27),\n",
       " (34.0, 27),\n",
       " (53.0, 27),\n",
       " (20.0, 27),\n",
       " (52.0, 27),\n",
       " (24.0, 26),\n",
       " (30.0, 26),\n",
       " (47.0, 26)]"
      ]
     },
     "execution_count": 15,
     "metadata": {},
     "output_type": "execute_result"
    }
   ],
   "source": [
    "n4 = Counter(reversed_df['Number 4']).most_common(20)\n",
    "\n",
    "n4"
   ]
  },
  {
   "cell_type": "code",
   "execution_count": 16,
   "metadata": {},
   "outputs": [
    {
     "data": {
      "text/plain": [
       "[(32.0, 35),\n",
       " (19.0, 33),\n",
       " (41.0, 33),\n",
       " (3.0, 31),\n",
       " (11.0, 31),\n",
       " (15.0, 30),\n",
       " (2.0, 30),\n",
       " (13.0, 30),\n",
       " (51.0, 30),\n",
       " (39.0, 29),\n",
       " (55.0, 29),\n",
       " (10.0, 28),\n",
       " (48.0, 28),\n",
       " (17.0, 28),\n",
       " (49.0, 28),\n",
       " (37.0, 27),\n",
       " (50.0, 27),\n",
       " (28.0, 27),\n",
       " (20.0, 27),\n",
       " (30.0, 26)]"
      ]
     },
     "execution_count": 16,
     "metadata": {},
     "output_type": "execute_result"
    }
   ],
   "source": [
    "n5 = Counter(reversed_df['Number 5']).most_common(20)\n",
    "\n",
    "n5"
   ]
  },
  {
   "cell_type": "code",
   "execution_count": 17,
   "metadata": {},
   "outputs": [
    {
     "data": {
      "text/plain": [
       "[(18.0, 61),\n",
       " (24.0, 60),\n",
       " (6.0, 52),\n",
       " (11.0, 51),\n",
       " (20.0, 51),\n",
       " (5.0, 51),\n",
       " (23.0, 50),\n",
       " (21.0, 50),\n",
       " (13.0, 49),\n",
       " (2.0, 49),\n",
       " (26.0, 49),\n",
       " (19.0, 49),\n",
       " (8.0, 48),\n",
       " (25.0, 48),\n",
       " (15.0, 48),\n",
       " (9.0, 48),\n",
       " (17.0, 47),\n",
       " (3.0, 46),\n",
       " (14.0, 46),\n",
       " (12.0, 44)]"
      ]
     },
     "execution_count": 17,
     "metadata": {},
     "output_type": "execute_result"
    }
   ],
   "source": [
    "# reversed_df.info()\n",
    "pball = Counter(reversed_df['Powerball']).most_common(20)\n",
    "pball"
   ]
  },
  {
   "cell_type": "code",
   "execution_count": null,
   "metadata": {},
   "outputs": [],
   "source": []
  },
  {
   "cell_type": "code",
   "execution_count": null,
   "metadata": {},
   "outputs": [],
   "source": []
  },
  {
   "cell_type": "code",
   "execution_count": null,
   "metadata": {},
   "outputs": [],
   "source": []
  },
  {
   "cell_type": "code",
   "execution_count": 18,
   "metadata": {},
   "outputs": [],
   "source": [
    "top_numbers = n1 + n2 + n3 + n4 + n5\n",
    "most = [i[0] for i in top_numbers]\n",
    "# Counter(y).most_common(5)\n",
    "\n",
    "# Counter(top_numbers).most_common(10)"
   ]
  },
  {
   "cell_type": "code",
   "execution_count": 19,
   "metadata": {},
   "outputs": [
    {
     "data": {
      "text/plain": [
       "[(32.0, 5),\n",
       " (49.0, 4),\n",
       " (20.0, 4),\n",
       " (47.0, 3),\n",
       " (8.0, 3),\n",
       " (24.0, 3),\n",
       " (52.0, 3),\n",
       " (23.0, 3),\n",
       " (41.0, 3),\n",
       " (39.0, 3),\n",
       " (30.0, 3),\n",
       " (12.0, 2),\n",
       " (14.0, 2),\n",
       " (7.0, 2),\n",
       " (22.0, 2),\n",
       " (45.0, 2),\n",
       " (38.0, 2),\n",
       " (36.0, 2),\n",
       " (28.0, 2),\n",
       " (10.0, 2)]"
      ]
     },
     "execution_count": 19,
     "metadata": {},
     "output_type": "execute_result"
    }
   ],
   "source": [
    "Counter(most).most_common(20)"
   ]
  },
  {
   "cell_type": "code",
   "execution_count": 25,
   "metadata": {},
   "outputs": [
    {
     "data": {
      "text/plain": [
       "([4.0, 8.0, 19.0, 49.0, 50.0], 20.0)"
      ]
     },
     "execution_count": 25,
     "metadata": {},
     "output_type": "execute_result"
    }
   ],
   "source": [
    "nums_chosen = sorted([choice(most) for i in range(5)])\n",
    "pball = (choice(pball))\n",
    "\n",
    "nums_chosen, pball"
   ]
  },
  {
   "cell_type": "code",
   "execution_count": null,
   "metadata": {},
   "outputs": [],
   "source": []
  },
  {
   "cell_type": "code",
   "execution_count": null,
   "metadata": {},
   "outputs": [],
   "source": []
  },
  {
   "cell_type": "code",
   "execution_count": null,
   "metadata": {},
   "outputs": [],
   "source": []
  },
  {
   "cell_type": "code",
   "execution_count": null,
   "metadata": {},
   "outputs": [],
   "source": []
  },
  {
   "cell_type": "code",
   "execution_count": 21,
   "metadata": {},
   "outputs": [],
   "source": [
    "# result = list(chain.from_iterable(repeat(i,c) for i, c in Counter(reversed_df['Number 2']).most_common(20)))"
   ]
  },
  {
   "cell_type": "code",
   "execution_count": 22,
   "metadata": {},
   "outputs": [],
   "source": [
    "# result = set(chain.from_iterable(repeat(i,c) for i, c in Counter(reversed_df['Number 2']).most_common(20)))"
   ]
  },
  {
   "cell_type": "code",
   "execution_count": 23,
   "metadata": {},
   "outputs": [],
   "source": [
    "# result"
   ]
  },
  {
   "cell_type": "code",
   "execution_count": 24,
   "metadata": {},
   "outputs": [],
   "source": [
    "# a = [1,2,3,4,5,6,3,3,4,2,2,2,2,2,2]\n",
    "\n",
    "# Counter(a)\n",
    "\n",
    "# result = list(chain.from_iterable(repeat(i, c) \n",
    "#          for i, c in Counter(a).most_common()))\n",
    "\n",
    "# result = set(chain.from_iterable(repeat(i, c) \n",
    "#          for i, c in Counter(a).most_common(1)))\n",
    "\n",
    "# result"
   ]
  },
  {
   "cell_type": "code",
   "execution_count": null,
   "metadata": {},
   "outputs": [],
   "source": []
  },
  {
   "cell_type": "code",
   "execution_count": null,
   "metadata": {},
   "outputs": [],
   "source": []
  },
  {
   "cell_type": "code",
   "execution_count": null,
   "metadata": {},
   "outputs": [],
   "source": []
  },
  {
   "cell_type": "code",
   "execution_count": null,
   "metadata": {},
   "outputs": [],
   "source": []
  },
  {
   "cell_type": "code",
   "execution_count": null,
   "metadata": {},
   "outputs": [],
   "source": []
  }
 ],
 "metadata": {
  "kernelspec": {
   "display_name": "Python 3",
   "language": "python",
   "name": "python3"
  },
  "language_info": {
   "codemirror_mode": {
    "name": "ipython",
    "version": 3
   },
   "file_extension": ".py",
   "mimetype": "text/x-python",
   "name": "python",
   "nbconvert_exporter": "python",
   "pygments_lexer": "ipython3",
   "version": "3.8.5"
  }
 },
 "nbformat": 4,
 "nbformat_minor": 4
}
