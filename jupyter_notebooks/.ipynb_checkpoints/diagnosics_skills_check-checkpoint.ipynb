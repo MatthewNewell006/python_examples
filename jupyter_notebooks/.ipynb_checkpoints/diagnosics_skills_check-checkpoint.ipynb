{
 "cells": [
  {
   "cell_type": "markdown",
   "metadata": {},
   "source": [
    "## List to Dict"
   ]
  },
  {
   "cell_type": "code",
   "execution_count": 9,
   "metadata": {},
   "outputs": [],
   "source": [
    "def transform_first_and_last(lst):\n",
    "    return {lst[0]:lst[-1]}"
   ]
  },
  {
   "cell_type": "code",
   "execution_count": 10,
   "metadata": {},
   "outputs": [],
   "source": [
    "input1 = ['Kevin', 'Bacon', 'Love', 'Heart', 'Costner', 'Hart']"
   ]
  },
  {
   "cell_type": "code",
   "execution_count": 11,
   "metadata": {},
   "outputs": [],
   "source": [
    "output = transform_first_and_last(input1)"
   ]
  },
  {
   "cell_type": "code",
   "execution_count": 12,
   "metadata": {},
   "outputs": [
    {
     "data": {
      "text/plain": [
       "{'Kevin': 'Hart'}"
      ]
     },
     "execution_count": 12,
     "metadata": {},
     "output_type": "execute_result"
    }
   ],
   "source": [
    "output"
   ]
  },
  {
   "cell_type": "code",
   "execution_count": null,
   "metadata": {},
   "outputs": [],
   "source": []
  },
  {
   "cell_type": "markdown",
   "metadata": {},
   "source": [
    "## List to Dict 2"
   ]
  },
  {
   "cell_type": "code",
   "execution_count": 13,
   "metadata": {},
   "outputs": [],
   "source": [
    "def from_list_to_dict(input1):\n",
    "    return {i[0]:i[1] for i in input1}"
   ]
  },
  {
   "cell_type": "code",
   "execution_count": 14,
   "metadata": {},
   "outputs": [],
   "source": [
    "input1 = [['make', 'Ford'], ['model', 'Mustang'], ['year', 1964]]"
   ]
  },
  {
   "cell_type": "code",
   "execution_count": 15,
   "metadata": {},
   "outputs": [],
   "source": [
    "output = from_list_to_dict(input1)"
   ]
  },
  {
   "cell_type": "code",
   "execution_count": 16,
   "metadata": {},
   "outputs": [
    {
     "data": {
      "text/plain": [
       "{'make': 'Ford', 'model': 'Mustang', 'year': 1964}"
      ]
     },
     "execution_count": 16,
     "metadata": {},
     "output_type": "execute_result"
    }
   ],
   "source": [
    "output"
   ]
  },
  {
   "cell_type": "code",
   "execution_count": null,
   "metadata": {},
   "outputs": [],
   "source": []
  },
  {
   "cell_type": "markdown",
   "metadata": {},
   "source": [
    "## List to Dict 3"
   ]
  },
  {
   "cell_type": "code",
   "execution_count": 87,
   "metadata": {},
   "outputs": [],
   "source": [
    "def transform_employee_data(input1):\n",
    "    d = {}\n",
    "    d2 = {}\n",
    "    for i in input1:\n",
    "        for j in i:\n",
    "            if j[0] not in d:\n",
    "                d[j[0]] = j[1]\n",
    "            else:\n",
    "                d2[j[0]] = j[1]\n",
    "    return [d, d2]"
   ]
  },
  {
   "cell_type": "code",
   "execution_count": 88,
   "metadata": {},
   "outputs": [],
   "source": [
    "input1 = [[['firstName', 'Joe'], ['lastName', 'Coltrane'], ['age', 42], ['role', 'clerk']], [['firstName', 'Sheila'], ['lastName', 'Jenkins'], ['age', 36], ['role', 'manager']]]"
   ]
  },
  {
   "cell_type": "code",
   "execution_count": 89,
   "metadata": {},
   "outputs": [],
   "source": [
    "output1 = transform_employee_data(input1)"
   ]
  },
  {
   "cell_type": "code",
   "execution_count": 90,
   "metadata": {},
   "outputs": [
    {
     "data": {
      "text/plain": [
       "[{'firstName': 'Joe', 'lastName': 'Coltrane', 'age': 42, 'role': 'clerk'},\n",
       " {'firstName': 'Sheila', 'lastName': 'Jenkins', 'age': 36, 'role': 'manager'}]"
      ]
     },
     "execution_count": 90,
     "metadata": {},
     "output_type": "execute_result"
    }
   ],
   "source": [
    "output1"
   ]
  },
  {
   "cell_type": "code",
   "execution_count": 91,
   "metadata": {},
   "outputs": [],
   "source": [
    "input2 = [[['id', '4343F5X'], ['location', 'New York']], [['id', '2564F5X'], ['location', 'Berlin']]]"
   ]
  },
  {
   "cell_type": "code",
   "execution_count": 92,
   "metadata": {},
   "outputs": [],
   "source": [
    "output2 = transform_employee_data(input2)"
   ]
  },
  {
   "cell_type": "code",
   "execution_count": 93,
   "metadata": {},
   "outputs": [
    {
     "data": {
      "text/plain": [
       "[{'id': '4343F5X', 'location': 'New York'},\n",
       " {'id': '2564F5X', 'location': 'Berlin'}]"
      ]
     },
     "execution_count": 93,
     "metadata": {},
     "output_type": "execute_result"
    }
   ],
   "source": [
    "output2"
   ]
  },
  {
   "cell_type": "code",
   "execution_count": null,
   "metadata": {},
   "outputs": [],
   "source": []
  },
  {
   "cell_type": "code",
   "execution_count": 98,
   "metadata": {},
   "outputs": [],
   "source": [
    "def transform_employee_data(input1):\n",
    "    d = {}\n",
    "    d2 = {}\n",
    "    for i in input1:\n",
    "        for j in i:\n",
    "            if j[0] not in d:\n",
    "                d.update({j[0]: j[1]})\n",
    "            else:\n",
    "                d2.update({j[0]: j[1]})\n",
    "    return [d, d2]"
   ]
  },
  {
   "cell_type": "code",
   "execution_count": 99,
   "metadata": {},
   "outputs": [],
   "source": [
    "input1 = [[['firstName', 'Joe'], ['lastName', 'Coltrane'], ['age', 42], ['role', 'clerk']], [['firstName', 'Sheila'], ['lastName', 'Jenkins'], ['age', 36], ['role', 'manager']]]"
   ]
  },
  {
   "cell_type": "code",
   "execution_count": 100,
   "metadata": {},
   "outputs": [],
   "source": [
    "output1 = transform_employee_data(input1)"
   ]
  },
  {
   "cell_type": "code",
   "execution_count": 101,
   "metadata": {},
   "outputs": [
    {
     "data": {
      "text/plain": [
       "[{'firstName': 'Joe', 'lastName': 'Coltrane', 'age': 42, 'role': 'clerk'},\n",
       " {'firstName': 'Sheila', 'lastName': 'Jenkins', 'age': 36, 'role': 'manager'}]"
      ]
     },
     "execution_count": 101,
     "metadata": {},
     "output_type": "execute_result"
    }
   ],
   "source": [
    "output1"
   ]
  },
  {
   "cell_type": "code",
   "execution_count": null,
   "metadata": {},
   "outputs": [],
   "source": []
  }
 ],
 "metadata": {
  "kernelspec": {
   "display_name": "Python 3",
   "language": "python",
   "name": "python3"
  },
  "language_info": {
   "codemirror_mode": {
    "name": "ipython",
    "version": 3
   },
   "file_extension": ".py",
   "mimetype": "text/x-python",
   "name": "python",
   "nbconvert_exporter": "python",
   "pygments_lexer": "ipython3",
   "version": "3.8.5"
  }
 },
 "nbformat": 4,
 "nbformat_minor": 4
}
